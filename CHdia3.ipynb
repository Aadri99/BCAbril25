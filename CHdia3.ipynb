{
 "cells": [
  {
   "cell_type": "markdown",
   "id": "bd81a74f",
   "metadata": {},
   "source": [
    "# Challenge"
   ]
  },
  {
   "cell_type": "markdown",
   "id": "246862c9",
   "metadata": {},
   "source": [
    "palabra_a_encontrar = \n",
    "cantidad_de_letras =\n",
    "intentos (seían 5)\n",
    "#grilla vacia (lista para mostrar el progreso del jugador)\n",
    "Mensaje de Bienvenida\n",
    "\n",
    "1. juego tiene definido palabra secreta\n",
    "2. usuario ingrese la palabra \n",
    "3. si falla la palabra, el juego avisa cuantos intentos quedan\n",
    "4. muentra con [] si la posicion es correcta\n",
    "5. mnuetsra con () si la letra esta pero no es posicion correcta\n",
    "\n",
    "1- ususario ingresa palabra\n",
    "2- cuenta cantidad de letras de palabra (aprueba/descarta)\n",
    "3- se vuelve a pedir palabra\n",
    "4- cuando se cumple el requisito de cantidad de letras (en estructura iterativa)\n",
    "5- cuando se cumple la cantidad de letras imprime, separando las letras (modo list)\n",
    "6- dentro del WHILE entran los intentos \n",
    "\n"
   ]
  },
  {
   "cell_type": "code",
   "execution_count": null,
   "id": "7764b639",
   "metadata": {},
   "outputs": [
    {
     "name": "stdout",
     "output_type": "stream",
     "text": [
      "Palabra incorrecta\n",
      "te quedan 4 intentos\n",
      "te quedan 3 intentos\n",
      "te quedan 2 intentos\n",
      "te quedan 1 intentos\n",
      "te quedaste sin intentos\n"
     ]
    }
   ],
   "source": [
    "palabra_a_encontrar = \"vaca\"\n",
    "palabra_ingresada_por_usuario = input('Ingresa una palabra')\n",
    " \n",
    "palabra_a_encontrar = list(palabra_a_encontrar)\n",
    " \n",
    "#funcion  \n",
    "if palabra_ingresada_por_usuario != palabra_a_encontrar:\n",
    "    print('Palabra incorrecta')\n",
    "else:\n",
    "    print('Palabra correcta')\n",
    "\n",
    "#contador de letras\n",
    "cantidad_de_letras = 4\n",
    "len(palabra_ingresada_por_usuario)\n",
    "\n",
    "for palabra_ingresada_por_usuario in palabra_a_encontrar:\n",
    "    \n",
    "\n",
    "#intentos\n",
    "    intentos = 4\n",
    "while intentos > 0:\n",
    "    print(f'te quedan {intentos} intentos')\n",
    "    palabra = input('ingrese la palabra')\n",
    "    intentos = intentos - 1\n",
    "\n",
    "print('te quedaste sin intentos')\n"
   ]
  },
  {
   "cell_type": "code",
   "execution_count": null,
   "id": "aa82b6df",
   "metadata": {},
   "outputs": [],
   "source": [
    "palabra_a_encontrar = \"vaca\"\n",
    "palabra_ingresada_por_usuario = input('Ingresa una palabra')\n",
    " \n",
    "#for palabra_ingresada_por_usuario in palabra_a_encontrar:\n",
    "intentos = 3\n",
    "\n",
    "while intentos > 0:\n",
    "    print(f'te quedan {intentos} intentos')\n",
    "    palabra = input('ingrese la palabra')\n",
    "    intentos = intentos - 1\n",
    "\n",
    "\n",
    "\n",
    "#cantidad_de_letras = 4\n",
    "#len(palabra_ingresada_por_usuario)\n",
    "\n",
    "\n"
   ]
  },
  {
   "cell_type": "code",
   "execution_count": null,
   "id": "3dc898d9",
   "metadata": {},
   "outputs": [
    {
     "name": "stdout",
     "output_type": "stream",
     "text": [
      "['v', 'a', 'c', 'a']\n",
      "['c', 'a', 'a', 's']\n",
      "te quedan 3 intentos\n",
      "te quedan 2 intentos\n",
      "te quedan 1 intentos\n"
     ]
    },
    {
     "ename": "NameError",
     "evalue": "name 'definir_palabra_como_cadena' is not defined",
     "output_type": "error",
     "traceback": [
      "\u001b[31m---------------------------------------------------------------------------\u001b[39m\n",
      "\u001b[31mNameError\u001b[39m                                 Traceback (most recent call last)\n",
      "\u001b[36mCell\u001b[39m\u001b[36m \u001b[39m\u001b[32mIn[147]\u001b[39m\u001b[32m, line 15\u001b[39m\n",
      "\u001b[32m     12\u001b[39m     palabra = \u001b[38;5;28minput\u001b[39m(\u001b[33m'\u001b[39m\u001b[33mingrese la palabra\u001b[39m\u001b[33m'\u001b[39m)\n",
      "\u001b[32m     13\u001b[39m     intentos = intentos - \u001b[32m1\u001b[39m\n",
      "\u001b[32m---> \u001b[39m\u001b[32m15\u001b[39m \u001b[43mdefinir_palabra_como_cadena\u001b[49m\n",
      "\n",
      "\u001b[31mNameError\u001b[39m: name 'definir_palabra_como_cadena' is not defined"
     ]
    }
   ],
   "source": [
    "palabra_a_encontrar = \"vaca\"\n",
    "palabra_ingresada_por_usuario = input('Ingresa una palabra')\n",
    " \n",
    "palabra_a_encontrar = list(palabra_a_encontrar)\n",
    "print(palabra_a_encontrar) \n",
    "\n",
    "palabra_ingresada_por_usuario = list(palabra_ingresada_por_usuario)\n",
    "print(palabra_ingresada_por_usuario)\n",
    "\n",
    "for palabra_ingresada_por_usuario in range(intentos):\n",
    "    print(f'te quedan {intentos} intentos')\n",
    "    palabra = input('ingrese la palabra')\n",
    "    intentos = intentos - 1\n",
    "\n",
    "definir_palabra_como_cadena\n",
    "    \n",
    "\n",
    "\n",
    "\n",
    "\n"
   ]
  },
  {
   "cell_type": "code",
   "execution_count": null,
   "id": "3c9b2d8a",
   "metadata": {},
   "outputs": [
    {
     "name": "stdout",
     "output_type": "stream",
     "text": [
      "['f', 'f', 'f', 'f', 'f', 'f']\n",
      "<function fila_a_encontrar at 0x108e90ae0>\n"
     ]
    }
   ],
   "source": [
    "palabra_a_encontrar = \"vaca\"\n",
    "palabra_ingresada_por_usuario = input('Ingresa una palabra')\n",
    "\n",
    "def fila_a_encontrar (palabra_a_encontrar, palabra_ingresada_por_usuario):\n",
    "    cantidad_de_letras = 4\n",
    "    lista_de_letras_correctas = []\n",
    "    for lugar in range(cantidad_de_letras):\n",
    "        iguales = palabra_a_encontrar [lugar] == palabra_ingresada_por_usuario[lugar]\n",
    "\n",
    "palabra_ingresada_por_usuario = list(palabra_ingresada_por_usuario)\n",
    "print(palabra_ingresada_por_usuario)\n",
    "\n",
    "print(fila_a_encontrar)"
   ]
  },
  {
   "cell_type": "code",
   "execution_count": null,
   "id": "04561895",
   "metadata": {},
   "outputs": [
    {
     "name": "stdout",
     "output_type": "stream",
     "text": [
      "['[h]']\n"
     ]
    }
   ],
   "source": [
    "# crear una funcion eu contenga dos parametros\n",
    "def obtener_fila_verificada(palabra_a_encontrar, palabra_ingresada):\n",
    "    #definir la cantidad de letras de la palabra a encontrar\n",
    "    cantidad_de_letras_de_palabras_a_encontrar= 5\n",
    "    \n",
    "    #Crear una lista vacia para guardar las letras verificadas\n",
    "    lista_letras_verificadas = []\n",
    "    \n",
    "    # Se crea un bucle iterativo que recorre cada posicion de la palabra\n",
    "    for posicion in range(cantidad_de_letras_de_palabras_a_encontrar):\n",
    "        #comparar las letras de la misma posicion\n",
    "        #las_letras_son_iguales = palabra_a_encontrar[posicion] == palabra_ingresada[posicion]\n",
    "        \n",
    "        # se verifica si la letra existe en la palabra ingresada\n",
    "        la_letra_existe_en_la_palabra= palabra_ingresada[posicion] in palabra_a_encontrar\n",
    "        #porque una comparacion se guarda en una variable\n",
    "        if palabra_a_encontrar[posicion] == palabra_ingresada[posicion]:\n",
    "            lista_letras_verificadas.append(\"[\" + palabra_ingresada[posicion] + \"]\")\n",
    "        elif la_letra_existe_en_la_palabra:\n",
    "            lista_letras_verificadas.append(\"(\" + palabra_ingresada[posicion] + \")\")\n",
    "        else:\n",
    "            lista_letras_verificadas.append(palabra_ingresada[posicion])\n",
    "        \n",
    "        return lista_letras_verificadas\n",
    "\n",
    "\n",
    "palabra_a_encontrar = \"huevo\"\n",
    "\n",
    "palabra_ingresada = input(\"Ingrese la palabra de 5 letras: \")\n",
    "\n",
    "linea_verificada = obtener_fila_verificada(palabra_a_encontrar, palabra_ingresada)\n",
    "\n",
    "print(linea_verificada)"
   ]
  },
  {
   "cell_type": "code",
   "execution_count": null,
   "id": "1b09257c",
   "metadata": {},
   "outputs": [
    {
     "name": "stdout",
     "output_type": "stream",
     "text": [
      "['d']\n"
     ]
    }
   ],
   "source": [
    "palabra_a_encontrar = \"huevo\"\n",
    "palabra_ingresada = input(\"Ingrese la palabra de 5 letras: \")\n",
    "lista_letras_verificadas = []\n",
    "\n",
    "# crear una funcion eu contenga dos parametros\n",
    "def obtener_fila_verificada(palabra_a_encontrar, palabra_ingresada):\n",
    "    cantidad_de_letras_de_palabras_a_encontrar = 5\n",
    "    for i in range(cantidad_de_letras_de_palabras_a_encontrar):\n",
    "        \n",
    "\n",
    "\n",
    "        #comparar las letras de la misma posicion\n",
    "        #las_letras_son_iguales = palabra_a_encontrar[posicion] == palabra_ingresada[posicion]\n",
    "        \n",
    "        # se verifica si la letra existe en la palabra ingresada\n",
    "        la_letra_existe_en_la_palabra= palabra_ingresada[i] in palabra_a_encontrar\n",
    "        #porque una comparacion se guarda en una variable\n",
    "        if palabra_a_encontrar[i] == palabra_ingresada[i]:\n",
    "            lista_letras_verificadas.append(\"[\" + palabra_ingresada[i] + \"]\")\n",
    "        elif la_letra_existe_en_la_palabra:\n",
    "            lista_letras_verificadas.append(\"(\" + palabra_ingresada[i] + \")\")\n",
    "        else:\n",
    "            lista_letras_verificadas.append(palabra_ingresada[i])\n",
    "        \n",
    "        return lista_letras_verificadas\n",
    "\n",
    "\n",
    "palabra_a_encontrar = \"huevo\"\n",
    "\n",
    "palabra_ingresada = input(\"Ingrese la palabra de 5 letras: \")\n",
    "\n",
    "linea_verificada = obtener_fila_verificada(palabra_a_encontrar, palabra_ingresada)\n",
    "\n",
    "print(linea_verificada)"
   ]
  },
  {
   "cell_type": "code",
   "execution_count": null,
   "id": "9b499369",
   "metadata": {},
   "outputs": [
    {
     "ename": "NameError",
     "evalue": "name 'mostrar_grilla' is not defined",
     "output_type": "error",
     "traceback": [
      "\u001b[31m---------------------------------------------------------------------------\u001b[39m\n",
      "\u001b[31mNameError\u001b[39m                                 Traceback (most recent call last)\n",
      "\u001b[36mCell\u001b[39m\u001b[36m \u001b[39m\u001b[32mIn[28]\u001b[39m\u001b[32m, line 31\u001b[39m\n",
      "\u001b[32m     29\u001b[39m fila = fila_a_encontrar(palabra_a_encontrar, palabra_lista)\n",
      "\u001b[32m     30\u001b[39m grilla.append(fila)\n",
      "\u001b[32m---> \u001b[39m\u001b[32m31\u001b[39m \u001b[43mmostrar_grilla\u001b[49m(grilla) \n",
      "\u001b[32m     33\u001b[39m \u001b[38;5;28;01mif\u001b[39;00m palabra_usuario == palabra_a_encontrar:\n",
      "\u001b[32m     34\u001b[39m     \u001b[38;5;28mprint\u001b[39m(\u001b[33m\"\u001b[39m\u001b[33m ¡Ganaste! Adivinaste la palabra correctamente.\u001b[39m\u001b[33m\"\u001b[39m)\n",
      "\n",
      "\u001b[31mNameError\u001b[39m: name 'mostrar_grilla' is not defined"
     ]
    }
   ],
   "source": [
    "palabra_a_encontrar = \"vaca\"\n",
    "intentos_maximos = 5\n",
    "grilla = []\n",
    "cantidad_de_letras = len(palabra_a_encontrar)\n",
    "\n",
    "def fila_a_encontrar(palabra_a_encontrar, palabra_ingresada):\n",
    "    resultado = []\n",
    "    for i in range(cantidad_de_letras):\n",
    "        letra_usuario = palabra_ingresada[i]\n",
    "        letra_correcta = palabra_a_encontrar[i]\n",
    "        \n",
    "        if letra_usuario == letra_correcta:\n",
    "            resultado.append(f\"[{letra_usuario}]\")\n",
    "        elif letra_usuario in palabra_a_encontrar:\n",
    "            resultado.append(f\"({letra_usuario})\")\n",
    "        else:\n",
    "            resultado.append(f\" {letra_usuario} \")\n",
    "    return resultado\n",
    "\n",
    "intentos = 0\n",
    "while intentos < intentos_maximos:\n",
    "    palabra_usuario = input(\" Ingresá una palabra: \").lower()\n",
    "\n",
    "    if len(palabra_usuario) != cantidad_de_letras:\n",
    "        print(f\" La palabra debe tener exactamente {cantidad_de_letras} letras. Intentá de nuevo.\")\n",
    "        continue\n",
    " \n",
    "    palabra_lista = list(palabra_usuario)\n",
    "    fila = fila_a_encontrar(palabra_a_encontrar, palabra_lista)\n",
    "    grilla.append(fila)\n",
    "    mostrar_grilla(grilla) \n",
    "\n",
    "    if palabra_usuario == palabra_a_encontrar:\n",
    "        print(\" ¡Ganaste! Adivinaste la palabra correctamente.\")\n",
    "        break\n"
   ]
  },
  {
   "cell_type": "code",
   "execution_count": null,
   "id": "1fadb11b",
   "metadata": {},
   "outputs": [
    {
     "data": {
      "text/plain": [
       "<function __main__.fila_a_encontrar(palabra_a_encontrar, palabra_ingresada_por_usuario)>"
      ]
     },
     "metadata": {},
     "output_type": "display_data"
    }
   ],
   "source": [
    "palabra_a_encontrar = \"vaca\"\n",
    "intentos_maximos = 5\n",
    "grilla = []\n",
    "\n",
    "\n",
    "def fila_a_encontrar(palabra_a_encontrar, palabra_ingresada_por_usuario):\n",
    "    cantidad_de_letras = len(palabra_a_encontrar)\n",
    "    resultado = []\n",
    "    \n",
    "    for i in range(cantidad_de_letras):\n",
    "        letra_usuario = palabra_ingresada_por_usuario[i]\n",
    "        letra_correcta = palabra_a_encontrar[i]\n",
    "\n",
    "        if letra_usuario == letra_correcta:\n",
    "            resultado.append(f\"[{letra_usuario}]\")\n",
    "        elif letra_usuario in palabra_a_encontrar:\n",
    "            resultado.append(f\"({letra_usuario})\")\n",
    "        else:\n",
    "            resultado.append(f\" {letra_usuario} \")\n",
    "    \n",
    "    return resultado\n",
    "\n",
    "# Simulación de una jugada\n",
    "palabra_ingresada_por_usuario = input(\"Ingresa una palabra: \")\n",
    "\n"
   ]
  },
  {
   "cell_type": "markdown",
   "id": "0158aaad",
   "metadata": {},
   "source": [
    "# SOLUCIONADO"
   ]
  },
  {
   "cell_type": "code",
   "execution_count": null,
   "id": "4ec007c7",
   "metadata": {},
   "outputs": [
    {
     "name": "stdout",
     "output_type": "stream",
     "text": [
      "¡Adivina la palabra de 5 letras! (escríbela en minúsculas)\n",
      "c a d a s\n",
      "c a s a d\n",
      "Por favor, ingresa una palabra de 5 letras (en minúsculas).\n",
      "Por favor, ingresa una palabra de 5 letras (en minúsculas).\n",
      "Por favor, ingresa una palabra de 5 letras (en minúsculas).\n",
      "Por favor, ingresa una palabra de 5 letras (en minúsculas).\n",
      "[h] [u] [e] [v] [o]\n",
      "¡Ganaste en 3 intentos!\n"
     ]
    }
   ],
   "source": [
    "#palabra definida por el juego\n",
    "palabra_clave = \"huevo\"\n",
    "#mensaje de bienvenida\n",
    "print(\"¡Adivina la palabra de 5 letras! (escríbela en minúsculas)\")\n",
    "\n",
    "#crea un bucle que se repite 5 veces\n",
    "for intento in range(1, 6):\n",
    "    #While True utiliza para que se repita el ciclo hasta que se cumpla la condicion de 5 letras. En caso de no cumplirse tira un mensaje.Se especifica la cantidad de intentos.\n",
    "    while True:\n",
    "        palabra = input(f\"Intento {intento}: \") \n",
    "        if len(palabra) == 5 :\n",
    "            break\n",
    "        print(\"Por favor, ingresa una palabra de 5 letras (en minúsculas).\")\n",
    "#En este caso se puede (i)iterador: recorre el elemento, la palabra. Y con range se especifica el rango. \n",
    "#Para buscar una letra dentro de una palabra. Y la condiciona con la manera de entregar [] si la letra esta en la misma posicion que en la palabra clave. () si esta en la palabra clave, pero no en su lugar. Y nada si no es correcta la letra.\n",
    "    resultado = []\n",
    "    for i in range(5):\n",
    "        letra = palabra[i]\n",
    "        if letra == palabra_clave[i]:\n",
    "            resultado.append(f\"[{letra}]\")\n",
    "        elif letra in palabra_clave:\n",
    "            resultado.append(f\"({letra})\")\n",
    "        else:\n",
    "            resultado.append(letra)\n",
    "#y se solicita imprimir las letras separadas con un espacio \" \" de manera continuada .join (une elementos de una lista)\n",
    "    print(\" \".join(resultado))\n",
    "#se verifica si la palabra final fue la correcta/incorrecta y tira un mensaje acorde\n",
    "    if palabra == palabra_clave:\n",
    "        print(f\"¡Ganaste en {intento} intentos!\")\n",
    "        break\n",
    "else:\n",
    "    print(f\"¡Perdiste! La palabra era '{palabra_clave}'.\")"
   ]
  }
 ],
 "metadata": {
  "language_info": {
   "name": "python"
  }
 },
 "nbformat": 4,
 "nbformat_minor": 5
}
