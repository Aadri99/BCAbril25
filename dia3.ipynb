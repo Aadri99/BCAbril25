{
 "cells": [
  {
   "cell_type": "markdown",
   "id": "a9c7df19",
   "metadata": {},
   "source": [
    "# Primer Challenge"
   ]
  },
  {
   "cell_type": "code",
   "execution_count": 44,
   "id": "cf6f5ba9",
   "metadata": {},
   "outputs": [
    {
     "name": "stdout",
     "output_type": "stream",
     "text": [
      "Hola Mundo\n"
     ]
    }
   ],
   "source": [
    "#EJEMPLO\n",
    "def imprimir_saludo():\n",
    "    print('Hola Mundo')\n",
    "\n",
    "imprimir_saludo()"
   ]
  },
  {
   "cell_type": "code",
   "execution_count": 45,
   "id": "adf85b24",
   "metadata": {},
   "outputs": [
    {
     "name": "stdout",
     "output_type": "stream",
     "text": [
      "perro\n"
     ]
    }
   ],
   "source": [
    "# Crear una funcion \"def\" que [imprima la variable palabra] \n",
    "# la variable: \"imprimir palabra\" \n",
    "# = para cambiar la variable por otra palabra \n",
    "\n",
    "def imprimir_palabra():\n",
    "    imprimir_palabra = 'perro'\n",
    "    print(imprimir_palabra)\n",
    "\n",
    "imprimir_palabra()"
   ]
  },
  {
   "cell_type": "markdown",
   "id": "c35de47d",
   "metadata": {},
   "source": [
    "# Segundo Challenge"
   ]
  },
  {
   "cell_type": "code",
   "execution_count": 46,
   "id": "03fd3916",
   "metadata": {},
   "outputs": [
    {
     "name": "stdout",
     "output_type": "stream",
     "text": [
      "4\n"
     ]
    }
   ],
   "source": [
    "#EJEMPLO\n",
    "def sumar_numeros(numero1, numero2):\n",
    "    suma = numero1 + numero2\n",
    "    print(suma)\n",
    "\n",
    "sumar_numeros(2, 2)\n"
   ]
  },
  {
   "cell_type": "code",
   "execution_count": 49,
   "id": "423408d3",
   "metadata": {},
   "outputs": [
    {
     "name": "stdout",
     "output_type": "stream",
     "text": [
      "Son diferentes\n"
     ]
    }
   ],
   "source": [
    "#Crear una función (\"def\") que reciba (\"no va de parte del usuario, la metemos nosotros\") dos letras (parámetros) (que seria \"letra1 y letra2\") y que verifique si son iguales:\n",
    "#Si son iguales, imprimir \"Las letras son iguales\". (funcion \"if\")\n",
    "#De lo contrario, imprimir \"Las letras son diferentes\". (funcion \"else\")\n",
    "\n",
    "    \n",
    "def letras_a_comparar(letra1, letra2):\n",
    "    if letra1 == letra2:\n",
    "        print('Son iguales')\n",
    "    else:\n",
    "        print('Son diferentes')\n",
    "\n",
    "letras_a_comparar('b', 'd')"
   ]
  },
  {
   "cell_type": "markdown",
   "id": "c9e595b8",
   "metadata": {},
   "source": [
    "# Tercer Challenge"
   ]
  },
  {
   "cell_type": "code",
   "execution_count": 52,
   "id": "cbbf6997",
   "metadata": {},
   "outputs": [
    {
     "name": "stdout",
     "output_type": "stream",
     "text": [
      "4\n"
     ]
    }
   ],
   "source": [
    "#EJEMPLO\n",
    "\n",
    "def sumatoria(numero1, numero2):\n",
    "    sumar = numero1 + numero2\n",
    "    print (sumar)\n",
    "sumatoria(2, 2)\n",
    "\n"
   ]
  },
  {
   "cell_type": "code",
   "execution_count": 70,
   "id": "6f099dd5",
   "metadata": {},
   "outputs": [
    {
     "data": {
      "text/plain": [
       "False"
      ]
     },
     "execution_count": 70,
     "metadata": {},
     "output_type": "execute_result"
    }
   ],
   "source": [
    "#Crear una función \"def\" que reciba dos parámetros (una palabra y un número), y que retorne (\"return\") (tipo de dato booleano) True si el número es igual a la cantidad de letras de la palabra. En caso contrario, que retorne False.\n",
    "#Pista: cantidad de letras de una palabra en python (\"len\")\n",
    " \n",
    "def palabra_y_numero(palabra, numero):\n",
    "    if len(palabra) == numero:\n",
    "        return True\n",
    "    else:\n",
    "        return False\n",
    "        \n",
    "\n",
    "palabra_y_numero('caballo', 10)"
   ]
  },
  {
   "cell_type": "markdown",
   "id": "6b0642e4",
   "metadata": {},
   "source": [
    "# Cuarto Challenge"
   ]
  },
  {
   "cell_type": "code",
   "execution_count": null,
   "id": "66e34e36",
   "metadata": {},
   "outputs": [
    {
     "name": "stdout",
     "output_type": "stream",
     "text": [
      "[['a', 'a', 'a']]\n",
      "[['a', 'a', 'a'], ['s', 's', 's']]\n",
      "[['a', 'a', 'a'], ['s', 's', 's'], ['d', 'd', 'd']]\n"
     ]
    }
   ],
   "source": [
    "# \"list() desglosa la palabra por letra\"\n",
    "\n",
    "#Pedir al usuario que ingrese 1 palabra, luego convertir esa palabra a una lista con sus caracteres con list(). Agregar esa lista de caracteres a una lista llamada palabras_ingresadas. Repetir el proceso 3 veces. Cada vez que se agregue una lista de caracteres, imprimir la lista palabras_ingresadas.\n",
    "\n",
    "#Ejemplo del resultado esperado:\n",
    "\n",
    "#[['c', 'i', 'e', 'l', 'o']]\n",
    " # Al ingresar la primera palabra\n",
    "\n",
    "#[['c', 'i', 'e', 'l', 'o'], ['c', 'a', 'l', 'o', 'r']]\n",
    " # Al ingresar la segunda palabra\n",
    "\n",
    "#[['c', 'i', 'e', 'l', 'o'], ['c', 'a', 'l', 'o', 'r'], ['n', 'u', 'b', 'e', 's']]\n",
    " # Al ingresar la tercera palabra\n",
    "\n",
    "palabras_ingresadas = []\n",
    "\n",
    "for i in range(3):\n",
    "    palabra_usuario = input('Ingresa una palabra')\n",
    "    lista_de_caracteres= list(palabra_usuario)\n",
    "    palabras_ingresadas.append(lista_de_caracteres)\n",
    "    print(palabras_ingresadas)\n",
    "    "
   ]
  },
  {
   "cell_type": "markdown",
   "id": "bf4203ea",
   "metadata": {},
   "source": [
    "# Quinto Challenge"
   ]
  },
  {
   "cell_type": "code",
   "execution_count": null,
   "id": "b131f7ff",
   "metadata": {},
   "outputs": [
    {
     "name": "stdout",
     "output_type": "stream",
     "text": [
      "['h', 'o', 'l', 'i', 's']\n",
      "['h', 'e', 'l', 'l', 'o']\n",
      "['h', 'a', 'l', 'l', 'o']\n"
     ]
    }
   ],
   "source": [
    "#Dada la lista de ejemplo: \n",
    "\n",
    "#lista = [['h', 'o', 'l', 'i', 's'], ['h', 'e', 'l', 'l', 'o'], ['h', 'a', 'l', 'l', 'o']]\n",
    "\n",
    "#Crear una función que imprima una grilla (lista de listas), una línea por cada lista dentro de la lista principal.\n",
    "\n",
    "#Ejemplo del resultado esperado:\n",
    "\n",
    "#['h', 'o', 'l', 'i', 's']\n",
    "#['h', 'e', 'l', 'l', 'o']\n",
    "#['h', 'a', 'l', 'l', 'o']\n",
    "\n",
    "#1. tener lista\n",
    "lista = [['h', 'o', 'l', 'i', 's'], ['h', 'e', 'l', 'l', 'o'], ['h', 'a', 'l', 'l', 'o']]\n",
    "\n",
    "#2. hacer funcion con nombre de la grilla con la que se llamara a la funcion, \"imprimir_grilla\" y () coloco la \"lista\"\n",
    "def imprimir_grilla(lista):\n",
    "\n",
    "#3. Iniciar el ciclo con \"for\" y ((i)iterador: recorre el elemento, la palabra), porque son elementos lo que necesito separar de la lista, que estan dentro \"in\" de la (lista)  \n",
    "    for (i) in (lista):\n",
    "\n",
    "#4. imprimo el resultado de las filas\n",
    "        print(i)\n",
    "\n",
    "#5. llamo a la funcion de la \"grilla\" \n",
    "imprimir_grilla(lista)"
   ]
  },
  {
   "cell_type": "markdown",
   "id": "f02b0059",
   "metadata": {},
   "source": [
    "# Sexto Challenge"
   ]
  },
  {
   "cell_type": "code",
   "execution_count": 121,
   "id": "caffca7d",
   "metadata": {},
   "outputs": [
    {
     "name": "stdout",
     "output_type": "stream",
     "text": [
      "te quedan 3 intentos\n",
      "te quedan 2 intentos\n",
      "te quedan 1 intentos\n",
      "te quedaste sin intentos\n"
     ]
    }
   ],
   "source": [
    "#EJEMPLO\n",
    "\n",
    "intentos = 3\n",
    "while intentos > 0:\n",
    "    print(f'te quedan {intentos} intentos')\n",
    "    palabra = input('ingrese la palabra')\n",
    "    intentos = intentos - 1\n",
    "\n",
    "print('te quedaste sin intentos')"
   ]
  }
 ],
 "metadata": {
  "kernelspec": {
   "display_name": "Python 3",
   "language": "python",
   "name": "python3"
  },
  "language_info": {
   "codemirror_mode": {
    "name": "ipython",
    "version": 3
   },
   "file_extension": ".py",
   "mimetype": "text/x-python",
   "name": "python",
   "nbconvert_exporter": "python",
   "pygments_lexer": "ipython3",
   "version": "3.13.3"
  }
 },
 "nbformat": 4,
 "nbformat_minor": 5
}
