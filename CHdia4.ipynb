{
 "cells": [
  {
   "cell_type": "markdown",
   "id": "b3cca9e3",
   "metadata": {},
   "source": [
    "# Challenge 1: Registro de Tareas con Diccionarios\n",
    "\n",
    "Crea un programa que gestione las tareas de una persona. Debe usar un diccionario para almacenar las tareas con la siguiente estructura:\n",
    "tarea: nombre de la tarea.\n",
    "estado: estado de la tarea (pendiente, en progreso, completada).\n",
    "\n",
    "El programa debe permitir al usuario:\n",
    "1. Agregar una tarea nueva.\n",
    "2. Modificar el estado de una tarea.\n",
    "3. Eliminar una tarea.\n",
    "Mostrar todas las tareas y su estado\n",
    "\n",
    "\n",
    "### En esencia esta. Se puede hacer mas complejo dejando una seleccion de opciones al estado de la tarea para que ingrese el usuario"
   ]
  },
  {
   "cell_type": "code",
   "execution_count": null,
   "id": "34e54cde",
   "metadata": {},
   "outputs": [
    {
     "name": "stdout",
     "output_type": "stream",
     "text": [
      "{'cocina': 'listo'}\n",
      "{'cocina': 'listo', 'lavado': 'listo'}\n",
      "{'cocina': 'listo', 'lavado': 'listo', 'arreglo': 'pendiente'}\n",
      "{'cocina': 'listo', 'lavado': 'pendiente', 'arreglo': 'pendiente'}\n",
      "{'cocina': 'listo', 'lavado': 'pendiente'}\n",
      "Gracias por todo\n"
     ]
    }
   ],
   "source": [
    "\n",
    "tareas = {}\n",
    "\n",
    "\n",
    "while True:\n",
    "    \n",
    "    seleccion = int(input('Ingrese una opcion: 1- Agregar 2- Modificar 3- Eliminar 4 - Salir '))\n",
    "\n",
    "    if seleccion == 1:\n",
    "        tarea = input('Ingrese la tarea')\n",
    "        estado = input('Ingrese el estado de la tarea')\n",
    "        tareas[tarea] = estado\n",
    "        print(tareas)\n",
    "\n",
    "    elif seleccion == 2:\n",
    "        tareas.keys()\n",
    "        tarea = input('Ingrese la tarea')\n",
    "        estado = input('Ingrese el estado de la tarea')\n",
    "        tareas[tarea] = estado\n",
    "        print(tareas)\n",
    "\n",
    "    elif seleccion == 3:\n",
    "        tareas.keys()\n",
    "        tarea = input('Ingrese la tarea a eliminar')\n",
    "        del tareas[tarea]\n",
    "        print(tareas)\n",
    "    \n",
    "    elif seleccion == 4:\n",
    "        print(\"Gracias por todo\")\n",
    "        break\n",
    "\n",
    "    else:\n",
    "        print('La opcion ingresada no es valida, ingrese nuevamente una opcion')\n"
   ]
  },
  {
   "cell_type": "markdown",
   "id": "1cb19972",
   "metadata": {},
   "source": [
    "# Challenge 2: Adivina el Número\n",
    "Crea un juego simple en el que el usuario tiene que adivinar un número secreto. \n",
    "Elusuario puede hacer 3 intentos. \n",
    "Cada vez que falle, el programa debe decir si el número secreto es mayor o menor al ingresado . \n",
    "Si el usuario adivina, debe mostrar\n",
    "\"¡Felicidades! Adivinaste\"\n",
    "\n"
   ]
  },
  {
   "cell_type": "code",
   "execution_count": 30,
   "id": "eb8d0236",
   "metadata": {},
   "outputs": [
    {
     "name": "stdout",
     "output_type": "stream",
     "text": [
      "El numero secreto es mayor a 6\n",
      "Te quedan 2 intentos\n",
      "El numero secreto es mayor a 0\n",
      "Te quedan 1 intentos\n",
      "El numero 7 es correcto\n",
      "Felicidades! Adivinaste!\n"
     ]
    }
   ],
   "source": [
    "numero_secreto = 7\n",
    "intentos = 3\n",
    "\n",
    "while intentos > 0:\n",
    "    numero_ingresado = int(input('Introduce un numero: '))\n",
    "    if numero_ingresado == numero_secreto:\n",
    "        print(f'El numero {numero_ingresado} es correcto')\n",
    "        print('Felicidades! Adivinaste!')\n",
    "        break\n",
    "    elif numero_ingresado > numero_secreto:\n",
    "        print(f'El numero secreto es menor a {numero_ingresado}')\n",
    "    else:\n",
    "         print(f'El numero secreto es mayor a {numero_ingresado}')\n",
    "\n",
    "    intentos = intentos - 1\n",
    "    print(f'Te quedan {intentos} intentos')\n",
    "else:\n",
    "    print('Te quedaste sin intentos')\n"
   ]
  },
  {
   "cell_type": "markdown",
   "id": "9372410d",
   "metadata": {},
   "source": [
    "# Challenge 3: La Clase Animal\n",
    "Crea una clase llamada Animal que tenga los atributos:\n",
    "\n",
    "Nombre\n",
    "\n",
    "edad\n",
    "\n",
    "La clase debe tener un método llamado presentarse() que imprima algo como:\n",
    "\"¡Hola! Soy [nombre] y tengo [edad] años. Luego, crea instancias de un perro y un gato y haz que ambos se presenten."
   ]
  },
  {
   "cell_type": "code",
   "execution_count": 38,
   "id": "3a0d55a8",
   "metadata": {},
   "outputs": [
    {
     "name": "stdout",
     "output_type": "stream",
     "text": [
      "Hola! Soy Tini y tengo 5 años.\n",
      "Hola! Soy Milo y tengo 10 años.\n"
     ]
    }
   ],
   "source": [
    "class Animal:\n",
    "    def __init__(self, nombre, edad):\n",
    "        self.nombre = nombre\n",
    "        self.edad = edad\n",
    "    \n",
    "    def presentarse(self):\n",
    "        print(f'Hola! Soy {self.nombre} y tengo {self.edad} años.')\n",
    "\n",
    "perro = Animal('Milo', 10)\n",
    "gato = Animal('Tini', 5)\n",
    "\n",
    "gato.presentarse()\n",
    "perro.presentarse()"
   ]
  },
  {
   "cell_type": "markdown",
   "id": "1338d7c8",
   "metadata": {},
   "source": [
    "# Challenge 4: Peluche\n",
    "Crea una clase Peluche con los atributos:\n",
    "\n",
    "nombre,\n",
    "\n",
    "tamaño\n",
    "\n",
    "La clase debe tener un método abrazar() que imprima algo como: \"¡Es hora de abrazar a [nombre], el peluche de tamaño [tamaño]!\"\n",
    "Luego, crea un peluche y haz que sea abrazado.\n",
    "\n",
    "Conceptos usados:\n",
    "\n",
    "Clases, Atributos, Métodos."
   ]
  },
  {
   "cell_type": "code",
   "execution_count": 46,
   "id": "b9fb8dc3",
   "metadata": {},
   "outputs": [
    {
     "name": "stdout",
     "output_type": "stream",
     "text": [
      "¡Es hora de abrazar a Fofi, el peluche de tamaño grande!\n"
     ]
    }
   ],
   "source": [
    "class Peluche:\n",
    "    def __init__(self, nombre, tamanho):\n",
    "        self.nombre = nombre\n",
    "        self.tamanho = tamanho\n",
    "        \n",
    "    def abrazar(self):\n",
    "        print(f'¡Es hora de abrazar a {self.nombre}, el peluche de tamaño {self.tamanho}!')\n",
    "\n",
    "\n",
    "oso = Peluche('Fofi', 'grande')\n",
    "\n",
    "oso.abrazar()"
   ]
  },
  {
   "cell_type": "markdown",
   "id": "f08ef2b3",
   "metadata": {},
   "source": [
    "\n",
    "# Challenge 5: Multiplicar una Lista de Números\n",
    "\n",
    "\n",
    "Escribe una función llamada multiplicar_lista() que reciba una lista de números como parámetro y devuelva el resultado de multiplicar todos los elementos de la lista.\n",
    "\n",
    "\n",
    "### No entendi la logica"
   ]
  },
  {
   "cell_type": "code",
   "execution_count": 65,
   "id": "3162ee48",
   "metadata": {},
   "outputs": [
    {
     "name": "stdout",
     "output_type": "stream",
     "text": [
      "120\n"
     ]
    }
   ],
   "source": [
    "def multiplicar_lista(lista_de_numeros):\n",
    "    resultado = 1  \n",
    "    for numero in lista_de_numeros:  \n",
    "        resultado = resultado * numero  \n",
    "    return resultado  \n",
    "\n",
    "print(multiplicar_lista([2, 3, 4, 5])) \n"
   ]
  },
  {
   "cell_type": "markdown",
   "id": "656656d0",
   "metadata": {},
   "source": [
    "# Challenge 6: Acumulador de Números\n",
    "Escribe una función llamada acumulador() que reciba un número n como parámetro y devuelva la suma de todos los números desde 1 hasta n."
   ]
  },
  {
   "cell_type": "code",
   "execution_count": null,
   "id": "385fc497",
   "metadata": {},
   "outputs": [
    {
     "name": "stdout",
     "output_type": "stream",
     "text": [
      "55\n"
     ]
    }
   ],
   "source": [
    "def acumulador(n):\n",
    "    suma = 0\n",
    "    for numero in range(1, n +1):\n",
    "        suma = suma + numero\n",
    "    return suma\n",
    "print(acumulador(10)) "
   ]
  }
 ],
 "metadata": {
  "kernelspec": {
   "display_name": "Python 3",
   "language": "python",
   "name": "python3"
  },
  "language_info": {
   "codemirror_mode": {
    "name": "ipython",
    "version": 3
   },
   "file_extension": ".py",
   "mimetype": "text/x-python",
   "name": "python",
   "nbconvert_exporter": "python",
   "pygments_lexer": "ipython3",
   "version": "3.13.3"
  }
 },
 "nbformat": 4,
 "nbformat_minor": 5
}
