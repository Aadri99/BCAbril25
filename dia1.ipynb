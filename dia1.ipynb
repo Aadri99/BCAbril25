{
 "cells": [
  {
   "cell_type": "code",
   "execution_count": 17,
   "id": "b0931454",
   "metadata": {},
   "outputs": [
    {
     "name": "stdout",
     "output_type": "stream",
     "text": [
      "Hola Mundo\n"
     ]
    }
   ],
   "source": [
    "print(\"Hola Mundo\")"
   ]
  },
  {
   "cell_type": "markdown",
   "id": "dd01c5c2",
   "metadata": {},
   "source": [
    "# Primer Challenge"
   ]
  },
  {
   "cell_type": "code",
   "execution_count": 18,
   "id": "ea3c6c4e",
   "metadata": {},
   "outputs": [
    {
     "name": "stdout",
     "output_type": "stream",
     "text": [
      "25\n",
      "18\n"
     ]
    }
   ],
   "source": [
    "# Suma: asignar dos números en dos variables diferentes cantidad_de_manzanas y cantidad_de_naranjas. Luego sumar ambas variables en cantidad_de_frutas. Imprimir la última variable.\n",
    "# Resta: asignar un valor numérico a la variable frutas_vendidas. Luego, asignar la resta entre cantidad_de_frutas y frutas_vendidas a la variable frutas_restantes. Imprimir la última variable.\n",
    "\n",
    "# SUMA\n",
    "cantidad_de_manzana = 10\n",
    "cantidad_de_naranjas = 15\n",
    "cantidad_de_frutas = cantidad_de_manzana + cantidad_de_naranjas\n",
    "print(cantidad_de_frutas)\n",
    "\n",
    "# RESTA\n",
    "frutas_vendidas = 7\n",
    "frutas_restantes = cantidad_de_frutas - frutas_vendidas\n",
    "print(frutas_restantes)"
   ]
  },
  {
   "cell_type": "markdown",
   "id": "5b895de6",
   "metadata": {},
   "source": [
    "# Segundo Challenge"
   ]
  },
  {
   "cell_type": "code",
   "execution_count": 21,
   "id": "f5e67713",
   "metadata": {},
   "outputs": [
    {
     "name": "stdout",
     "output_type": "stream",
     "text": [
      "Hola Leticia Amarilla! Soy Adriana Vazquez. Mucho gusto!\n"
     ]
    }
   ],
   "source": [
    "# Asignar el nombre y el apellido de tu compañera/o a las variables nombre y apellido. Luego, imprimir una frase, utilizando las variables.\n",
    "# EJEMPLO: \"Hola. Me llamo Claudia Melgarejo. Mucho gusto.\"\n",
    "\n",
    "nombre = \"Leticia\"\n",
    "apellido = \"Amarilla\"\n",
    "print(f\"Hola {nombre} {apellido}! Soy Adriana Vazquez. Mucho gusto!\")\n"
   ]
  },
  {
   "cell_type": "markdown",
   "id": "4dbdb9dc",
   "metadata": {},
   "source": [
    "# Tercer Challenge "
   ]
  },
  {
   "cell_type": "code",
   "execution_count": 25,
   "id": "770db8e1",
   "metadata": {},
   "outputs": [
    {
     "name": "stdout",
     "output_type": "stream",
     "text": [
      "8\n"
     ]
    }
   ],
   "source": [
    "# Solicitar al usuario ingresar dos números y almacenarlos en dos variables. Luego, imprimir la suma de los dos números. \n",
    "\n",
    "# Las variables que da \"input\" las entrega en texto. Asi que para recibirlo como numero entero debe anotarse el \"int\" delante \n",
    "\n",
    "numero1 = int(input(\"dame un nro\"))\n",
    "numero2 = int(input(\"dame otro\"))\n",
    "suma = numero1 + numero2\n",
    "print(suma)"
   ]
  },
  {
   "cell_type": "markdown",
   "id": "2008d4d0",
   "metadata": {},
   "source": [
    "# Cuarto Challenge"
   ]
  },
  {
   "cell_type": "code",
   "execution_count": null,
   "id": "0832c4f0",
   "metadata": {},
   "outputs": [
    {
     "name": "stdout",
     "output_type": "stream",
     "text": [
      "cocinar\n",
      "no salir\n",
      "ser frugal\n",
      "cocinar\n",
      "no salir\n",
      "ser frugal\n",
      "cocinar\n",
      "no salir\n",
      "ser frugal\n"
     ]
    }
   ],
   "source": [
    "#Crear una función de un proceso que se les ocurra que tenga varios pasos.\n",
    "#Ejecutar la función 3 veces.\n",
    "\n",
    "def como_no_gastar():\n",
    "    print(\"cocinar\")\n",
    "    print(\"no salir\")\n",
    "    print(\"ser frugal\")\n",
    "\n",
    "como_no_gastar()\n",
    "como_no_gastar()\n",
    "como_no_gastar()"
   ]
  },
  {
   "cell_type": "markdown",
   "id": "ddeff872",
   "metadata": {},
   "source": [
    "# Quinto Challenge"
   ]
  },
  {
   "cell_type": "code",
   "execution_count": null,
   "id": "67bd24ee",
   "metadata": {},
   "outputs": [
    {
     "name": "stdout",
     "output_type": "stream",
     "text": [
      "se vende perro chico\n",
      "se vende perro ruidoso\n",
      "se vende perro caro\n"
     ]
    }
   ],
   "source": [
    "# paramero cuando definimos funcion - siempre espera un valor\n",
    "# argumento cuando llamamos a la funcion - es el valor que se agrega\n",
    "# def parametro y lo que va dentro del parentesis es el aergumento\n",
    "\n",
    "# Escribir una funcion que nos pregunte las caracteriticas de un elemento a comprar e imprima el elemento con sus caracteristicas.\n",
    "\n",
    "def perro_chihuahua(caracteristicas):\n",
    "    print(f'se vende perro {caracteristicas}')\n",
    "perro_chihuahua('chico')\n",
    "perro_chihuahua('ruidoso')\n",
    "perro_chihuahua('caro')\n",
    "\n"
   ]
  }
 ],
 "metadata": {
  "kernelspec": {
   "display_name": "Python 3",
   "language": "python",
   "name": "python3"
  },
  "language_info": {
   "codemirror_mode": {
    "name": "ipython",
    "version": 3
   },
   "file_extension": ".py",
   "mimetype": "text/x-python",
   "name": "python",
   "nbconvert_exporter": "python",
   "pygments_lexer": "ipython3",
   "version": "3.13.3"
  }
 },
 "nbformat": 4,
 "nbformat_minor": 5
}
