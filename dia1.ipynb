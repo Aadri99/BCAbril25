{
 "cells": [
  {
   "cell_type": "code",
   "execution_count": 17,
   "id": "b0931454",
   "metadata": {},
   "outputs": [
    {
     "name": "stdout",
     "output_type": "stream",
     "text": [
      "Hola Mundo\n"
     ]
    }
   ],
   "source": [
    "print(\"Hola Mundo\")"
   ]
  },
  {
   "cell_type": "markdown",
   "id": "dd01c5c2",
   "metadata": {},
   "source": [
    "# Primer Challenge"
   ]
  },
  {
   "cell_type": "code",
   "execution_count": 18,
   "id": "ea3c6c4e",
   "metadata": {},
   "outputs": [
    {
     "name": "stdout",
     "output_type": "stream",
     "text": [
      "25\n",
      "18\n"
     ]
    }
   ],
   "source": [
    "# Suma: asignar dos números en dos variables diferentes cantidad_de_manzanas y cantidad_de_naranjas. Luego sumar ambas variables en cantidad_de_frutas. Imprimir la última variable.\n",
    "# Resta: asignar un valor numérico a la variable frutas_vendidas. Luego, asignar la resta entre cantidad_de_frutas y frutas_vendidas a la variable frutas_restantes. Imprimir la última variable.\n",
    "\n",
    "# SUMA\n",
    "cantidad_de_manzana = 10\n",
    "cantidad_de_naranjas = 15\n",
    "cantidad_de_frutas = cantidad_de_manzana + cantidad_de_naranjas\n",
    "print(cantidad_de_frutas)\n",
    "\n",
    "# RESTA\n",
    "frutas_vendidas = 7\n",
    "frutas_restantes = cantidad_de_frutas - frutas_vendidas\n",
    "print(frutas_restantes)"
   ]
  },
  {
   "cell_type": "markdown",
   "id": "5b895de6",
   "metadata": {},
   "source": [
    "# Segundo Challenge"
   ]
  },
  {
   "cell_type": "code",
   "execution_count": 19,
   "id": "f5e67713",
   "metadata": {},
   "outputs": [
    {
     "name": "stdout",
     "output_type": "stream",
     "text": [
      "Hola Leticia Amarilla! Soy Adriana Vazquez. Mucho gusto!\n"
     ]
    }
   ],
   "source": [
    "# Asignar el nombre y el apellido de tu compañera/o a las variables nombre y apellido. Luego, imprimir una frase, utilizando las variables.\n",
    "# EJEMPLO: \"Hola. Me llamo Claudia Melgarejo. Mucho gusto.\"\n",
    "\n",
    "nombre = \"Leticia\"\n",
    "apellido = \"Amarilla\"\n",
    "print(f\"Hola {nombre} {apellido}! Soy Adriana Vazquez. Mucho gusto!\")\n"
   ]
  }
 ],
 "metadata": {
  "kernelspec": {
   "display_name": "Python 3",
   "language": "python",
   "name": "python3"
  },
  "language_info": {
   "codemirror_mode": {
    "name": "ipython",
    "version": 3
   },
   "file_extension": ".py",
   "mimetype": "text/x-python",
   "name": "python",
   "nbconvert_exporter": "python",
   "pygments_lexer": "ipython3",
   "version": "3.13.3"
  }
 },
 "nbformat": 4,
 "nbformat_minor": 5
}
