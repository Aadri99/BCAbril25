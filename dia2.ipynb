{
 "cells": [
  {
   "cell_type": "code",
   "execution_count": null,
   "id": "b4e213be",
   "metadata": {},
   "outputs": [],
   "source": [
    "# cuando queremos generar un saludo\n",
    "# las funciones van arriba y las variables van abajo\n",
    "\n",
    "def saludo_bienvenida (nombre):\n",
    "    print(f'Buen dia {nombre}')\n",
    "\n"
   ]
  },
  {
   "cell_type": "code",
   "execution_count": 5,
   "id": "b4798b00",
   "metadata": {},
   "outputs": [
    {
     "name": "stdout",
     "output_type": "stream",
     "text": [
      "Buen dia carlos\n"
     ]
    }
   ],
   "source": [
    "saludo_bienvenida(\"carlos\")"
   ]
  },
  {
   "cell_type": "code",
   "execution_count": null,
   "id": "f9d80128",
   "metadata": {},
   "outputs": [
    {
     "name": "stdout",
     "output_type": "stream",
     "text": [
      "Buen dia adri\n"
     ]
    }
   ],
   "source": [
    "usuario = input('ingrese su nombre')\n",
    "saludo_bienvenida(usuario)\n",
    "\n",
    "# la funcion \"def\" se crea una vez y sobre ese se utiliza de manera permanente hasta su modificacion"
   ]
  },
  {
   "cell_type": "markdown",
   "id": "eecd3bec",
   "metadata": {},
   "source": [
    "# Primer Challenge"
   ]
  },
  {
   "cell_type": "code",
   "execution_count": 23,
   "id": "861d161e",
   "metadata": {},
   "outputs": [
    {
     "name": "stdout",
     "output_type": "stream",
     "text": [
      "Podes tomar pero no comprar\n"
     ]
    }
   ],
   "source": [
    "# Escribe un programa que pregunte al usuario por su edad y determine si tiene edad suficiente para comprar y consumir alcohol.\n",
    "# Si el usuario tiene mas de 18 pero menos de 21 impirmir \"Podes tomar pero no comprar\"\n",
    "# Si el usuario tiene menos de 18 imprimir \"Juguito nomas\"\n",
    "# Si el usuario tiene mas de 21 imprimir \"Hace lo que quieras\"\n",
    "\n",
    "edad = int(input('Cuantos años tenes?'))\n",
    "\n",
    "if edad < 18:\n",
    "    print('Juguito nomas')\n",
    "elif edad >= 21:\n",
    "    print('Hace lo que quieras')\n",
    "else:\n",
    "    print(\"Podes tomar pero no comprar\")"
   ]
  },
  {
   "cell_type": "markdown",
   "id": "ffcf343c",
   "metadata": {},
   "source": [
    "# Segundo Challenge"
   ]
  },
  {
   "cell_type": "code",
   "execution_count": 96,
   "id": "6ad3b64c",
   "metadata": {},
   "outputs": [
    {
     "name": "stdout",
     "output_type": "stream",
     "text": [
      "33\n",
      "Hakuu\n"
     ]
    }
   ],
   "source": [
    "# Escribir un programa en el que se pregunte al usuario por una temperatura (en grados Celsius), imprima la temperatura escrita, y luego clasificar la temperatura ingresada en los siguientes niveles:\n",
    "\n",
    "# Entre -10 y 18 grados, que imprima \"Fresquete\".\n",
    "# Entre 19 y 30 grados, que imprima \"Calor'i\".\n",
    "# Entre 31 y 45 grados, que imprima \"Hakuuuuuu\".\n",
    "# Para todo lo demás, imprimir \"Ñamano mba'e!\".\n",
    "\n",
    "temperatura = int(input('Cuantos grados hace?'))\n",
    "print(temperatura)\n",
    "\n",
    "if temperatura >= -10 and temperatura <= 18:\n",
    "    print('Fresquete')\n",
    "elif temperatura >= 19 and temperatura <= 30:\n",
    "    print('Calor´i')\n",
    "elif temperatura >= 31 and temperatura <= 45:\n",
    "    print('Hakuu')\n",
    "else:\n",
    "    print('Ñamano mba´e')\n"
   ]
  },
  {
   "cell_type": "markdown",
   "id": "b9062341",
   "metadata": {},
   "source": [
    "# Tercer challenge"
   ]
  },
  {
   "cell_type": "code",
   "execution_count": 95,
   "id": "2b78b637",
   "metadata": {},
   "outputs": [
    {
     "name": "stdout",
     "output_type": "stream",
     "text": [
      "Contraseña incorrecta\n"
     ]
    }
   ],
   "source": [
    "# todo lo que se quiera colocar debe estra encima del BREAK sino se corta el progrma\n",
    "# Escribir un programa que almacene una contraseña en una variable, y pregunte al usuario por la contraseña hasta que introduzca la contraseña correcta.\n",
    "# Cuando el usuario ingrese la contrasena correcta, imprimir un mensaje secreto.\n",
    "\n",
    "contraseña = 'penguin'\n",
    "entrada = ' '\n",
    "\n",
    "while entrada != contraseña:\n",
    "    entrada = input('Introduce la contraseña')\n",
    "    if entrada != contraseña:\n",
    "        print('Contraseña incorrecta')\n",
    "    else:\n",
    "        print('Contraseña correcta. Feliz día!')\n",
    "    break\n"
   ]
  },
  {
   "cell_type": "markdown",
   "id": "3dae2241",
   "metadata": {},
   "source": [
    "# Cuarto Challenge\n",
    "\n",
    "\n",
    "el indice y la posicion no se cuentan igual.\n",
    "el indice se cuenta desde el 0 y la posicion desde el 1\n",
    "para acceder al item de la lista lo hago desde el INDICE\n",
    "la modificacion del item de la lista - se coloca entre [] el nimero de indice y = el cambi\n",
    "elimianr se usa \".remove\" y () el item o eliminar por indice \".pop\" y () con el nro\n",
    "agregar se usa \".append\" y () el item . se incluira al final de la lista\n",
    "contar elementos pint(len(lista))"
   ]
  },
  {
   "cell_type": "code",
   "execution_count": null,
   "id": "2c1ed82b",
   "metadata": {},
   "outputs": [
    {
     "name": "stdout",
     "output_type": "stream",
     "text": [
      "Agregar un elemento:['perro', 'gato', 'loro', 'hamster', 'tortuga', 'iguana']\n",
      "Modificando el 2do elemento:['perro', 'cotorra', 'loro', 'hamster', 'tortuga', 'iguana']\n",
      "Eliminando un elemento:['perro', 'cotorra', 'hamster', 'tortuga', 'iguana']\n",
      "['perro', 'cotorra', 'hamster', 'tortuga', 'iguana']\n"
     ]
    }
   ],
   "source": [
    "# Crear una lista de 5 elementos. Luego, seguir los siguientes pasos.\n",
    "# Agregar un elemento al final de la lista.\n",
    "# Modificar el segundo elemento.\n",
    "# Eliminar el tercer elemento.\n",
    "\n",
    "lista_de_mascotas = ['perro', 'gato', 'loro', 'hamster', 'tortuga']\n",
    "\n",
    "lista_de_mascotas.append ('iguana')\n",
    "print(f'Agregar un elemento:{lista_de_mascotas}')\n",
    "\n",
    "lista_de_mascotas[1] = ('cotorra')\n",
    "print(f'Modificando el 2do elemento:{lista_de_mascotas}')\n",
    "\n",
    "lista_de_mascotas.pop(2)\n",
    "print(f'Eliminando un elemento:{lista_de_mascotas}')\n",
    "\n",
    "# como opcion se pueden hacer todas las modificaciones y solicitar un solo \"print\", donde figurará un solo listado con las modificaciones solicitadas"
   ]
  },
  {
   "cell_type": "markdown",
   "id": "13d39557",
   "metadata": {},
   "source": [
    "# Quinto Challenge"
   ]
  },
  {
   "cell_type": "code",
   "execution_count": null,
   "id": "b70ceb77",
   "metadata": {},
   "outputs": [
    {
     "name": "stdout",
     "output_type": "stream",
     "text": [
      "1\n",
      "2\n",
      "3\n",
      "4\n",
      "5\n"
     ]
    }
   ],
   "source": [
    "# EJEMPLO\n",
    "# En los bucles se puede usar \"i\" como ITERADOR despues del \"for\"\n",
    "# Ex. For i in (se incluye el obtejo a iterar)\n",
    "# La iteracion es lo que se repite uno debajo de otro \n",
    "# la iteracion se hace por elempento\n",
    "\n",
    "semana = [1,2,3,4,5]\n",
    "for dia in semana:\n",
    "    print(dia)"
   ]
  },
  {
   "cell_type": "code",
   "execution_count": null,
   "id": "5f8d102d",
   "metadata": {},
   "outputs": [
    {
     "name": "stdout",
     "output_type": "stream",
     "text": [
      "0\n",
      "2\n",
      "4\n",
      "6\n",
      "8\n",
      "10\n",
      "12\n",
      "14\n",
      "16\n",
      "18\n"
     ]
    }
   ],
   "source": [
    "# en el rango(10) al no tener numero de inicio, inicia desde 0\n",
    "# si en el rango cambiamos (1,11) el numero de inicio es el 1 y el 11 es la cantidad de vueltas que da. La resta de ambos numeros son la cantidad de lineas que aparecerán\n",
    "for i in range(10):\n",
    "    print(i *2)\n"
   ]
  },
  {
   "cell_type": "markdown",
   "id": "a7401a8f",
   "metadata": {},
   "source": [
    "# Sexto Challenge"
   ]
  },
  {
   "cell_type": "code",
   "execution_count": null,
   "id": "6e1d867c",
   "metadata": {},
   "outputs": [
    {
     "name": "stdout",
     "output_type": "stream",
     "text": [
      "Adidas\n",
      "Rebook\n",
      "Under Armour\n",
      "All star\n"
     ]
    }
   ],
   "source": [
    "# Recorrer los elementos de una lista de marcas e imprimir cada marca solamente si tiene 6 letras o más.\n",
    "# crear lista \n",
    "# recorrer lista\n",
    "# crear cond si la palabra tiene mas de 6 carac\n",
    "# imprimir los correctos\n",
    "\n",
    "# el \"len() se utiliza para contar la cantidad de letras en cada elemento\"\n",
    "\n",
    "\n",
    "lista_de_marcas = ['Adidas', 'Nike', 'Rebook', 'Under Armour', 'Puma', 'All star']\n",
    "\n",
    "for marca in lista_de_marcas:\n",
    "    if len(marca) >= 6:\n",
    "        print(marca)\n"
   ]
  },
  {
   "cell_type": "markdown",
   "id": "89c84a82",
   "metadata": {},
   "source": [
    "# Septimo Challenge"
   ]
  },
  {
   "cell_type": "code",
   "execution_count": null,
   "id": "aec9febf",
   "metadata": {},
   "outputs": [
    {
     "name": "stdout",
     "output_type": "stream",
     "text": [
      "come el perro\n",
      "Encontraste la O\n",
      "Encontraste la O\n"
     ]
    }
   ],
   "source": [
    "# Solicitar al usuario que ingrese una frase.\n",
    "# Imprimir un mensaje cada vez que se encuentre una letra \"o\".\n",
    "\n",
    "frase = input('Ingresa una frase')\n",
    "print(frase)\n",
    "\n",
    "for letra in frase:\n",
    "    if letra == 'o':\n",
    "        print('Encontraste la O')"
   ]
  }
 ],
 "metadata": {
  "kernelspec": {
   "display_name": "Python 3",
   "language": "python",
   "name": "python3"
  },
  "language_info": {
   "codemirror_mode": {
    "name": "ipython",
    "version": 3
   },
   "file_extension": ".py",
   "mimetype": "text/x-python",
   "name": "python",
   "nbconvert_exporter": "python",
   "pygments_lexer": "ipython3",
   "version": "3.13.3"
  }
 },
 "nbformat": 4,
 "nbformat_minor": 5
}
