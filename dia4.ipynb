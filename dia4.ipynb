{
 "cells": [
  {
   "cell_type": "markdown",
   "id": "da719556",
   "metadata": {},
   "source": [
    "# Challenge 1"
   ]
  },
  {
   "cell_type": "code",
   "execution_count": null,
   "id": "8715d0e9",
   "metadata": {},
   "outputs": [
    {
     "name": "stdout",
     "output_type": "stream",
     "text": [
      "{'nombre': 'adir'}\n",
      "{'nombre': 'adir', 'apellido': 'vaz'}\n",
      "{'nombre': 'adir', 'apellido': 'vaz', 'edad': '33'}\n",
      "{'nombre': 'adir', 'apellido': 'vaz', 'edad': '33', 'sexo': 'f'}\n"
     ]
    }
   ],
   "source": [
    "# Escribir un programa que cree un diccionario vacío y lo vaya llenado con información sobre una persona (por ejemplo nombre, edad, sexo, teléfono, correo electrónico, etc.) que se le pida al usuario. Cada vez que se añada un nuevo dato debe imprimirse el contenido del diccionario.\n",
    "\n",
    "persona = {}\n",
    "\n",
    "nombre = input(\"Ingresa el nombre: \")\n",
    "persona[\"nombre\"] = nombre\n",
    "print(persona)\n",
    "apellido = input(\"Ingresa el apellido: \")\n",
    "persona[\"apellido\"] = apellido\n",
    "print(persona)\n",
    "edad = input(\"dime tu edad\")\n",
    "persona[\"edad\"] = edad\n",
    "print(persona)\n",
    "sexo = input(\"dime tu sexo\")\n",
    "persona[\"sexo\"] = sexo\n",
    "print(persona)\n",
    "\n",
    "\n"
   ]
  },
  {
   "cell_type": "markdown",
   "id": "ccc8edfa",
   "metadata": {},
   "source": [
    "# Challenge 2"
   ]
  },
  {
   "cell_type": "code",
   "execution_count": 44,
   "id": "818d87a7",
   "metadata": {},
   "outputs": [
    {
     "name": "stdout",
     "output_type": "stream",
     "text": [
      "Tu tarjeta actual es:\n",
      "{'Nombre': 'adri', 'Apellido': 'vazquez'}\n",
      "¿Qué querés hacer?\n",
      "a. Crear nuevo dato\n",
      "b. Modificar dato existente\n",
      "c. Eliminar dato\n",
      "Sexo\n",
      "{'Nombre': 'adri', 'Apellido': 'vazquez', 'Sexo': 'F'}\n"
     ]
    }
   ],
   "source": [
    "# Crear una tarjeta personal. El usuario (mediante input) puede elegir:\n",
    "#Crear datos nuevos\n",
    "#Modificar datos\n",
    "#Eliminar datos\n",
    "'''\n",
    "\n",
    "'''\n",
    "\n",
    "tarjeta = {\n",
    "    \"Nombre\": input(\"nombre\"),\n",
    "    \"Apellido\": input(\"apellido\")}\n",
    "print(\"Tu tarjeta actual es:\")\n",
    "print(tarjeta)\n",
    "\n",
    "print(\"¿Qué querés hacer?\")\n",
    "print(\"a. Crear nuevo dato\")\n",
    "print(\"b. Modificar dato existente\")\n",
    "print(\"c. Eliminar dato\")\n",
    "\n",
    "\n",
    "seleccionar = input(\"Seleccione opcion: (a/b/c\")\n",
    "if seleccionar == \"a\":\n",
    "    dato_nuevo = input(\"Crear dato nuevo\")\n",
    "    valor = input(\"Nueva info {dato_nuevo}:\")\n",
    "    tarjeta[dato_nuevo] = valor\n",
    "    print(dato_nuevo)\n",
    "    \n",
    "elif seleccionar == \"b\":\n",
    "    a_modificar = input(\"Que dato desea modificar: Nombre, Apellido, Dato Nuevo\")\n",
    "    tarjeta.keys()\n",
    "    if a_modificar in tarjeta:\n",
    "        nueva_info = input(f\"Nuevo valor para {a_modificar}\")\n",
    "        tarjeta[a_modificar] = nueva_info\n",
    "        print(a_modificar)\n",
    "\n",
    "elif seleccionar == \"c\":\n",
    "    a_eliminar = input(\"Que dato desea eliminar?\")\n",
    "    tarjeta.keys()\n",
    "    if a_eliminar in tarjeta.keys():\n",
    "        del tarjeta[a_eliminar]\n",
    "        print(a_eliminar)\n",
    "\n",
    "else:\n",
    "    print(\"La opcion ingresada no es valida\")\n",
    "\n",
    "print(tarjeta)\n",
    "\n",
    "#se puede utilizar la funcion WHILE de manera continuada para que no se elimine el diccionario. En cuyo caso debe utilizarse el BREAK al termianr la ultima lina de ELIF\n",
    "\n"
   ]
  },
  {
   "cell_type": "code",
   "execution_count": null,
   "id": "2fe3b3a7",
   "metadata": {},
   "outputs": [],
   "source": [
    "#Codigo que FUNCIONA - MAXI ORUE\n",
    "\n",
    "tarjeta_personal = {}\n",
    "while True:\n",
    "    eleccion = int(input (\"Que accion desea hacer? Eliga los numeros 1, 2 o 3 donde: 1. Crear datos nuevos 2. Modificar datos 3. Eliminar datos\"))\n",
    "    if eleccion == 1:\n",
    "        print (\"Haz seleccionado crear datos nuevos\")\n",
    "        clave = input (\"Ingrese el nombre de tu dato: \").lower()\n",
    "        valor = input (\"Ingrese el valor de tu dato\").lower()\n",
    "        tarjeta_personal.update ({clave:valor})\n",
    "        print(tarjeta_personal)\n",
    "\n",
    "    elif eleccion == 2:\n",
    "        print (\"Haz seleccionado modificar datos, los datos que puedes modificar son:\")\n",
    "        if tarjeta_personal == {}:\n",
    "            print (\"No hay nada que modificar\")\n",
    "        else:\n",
    "            print (tarjeta_personal.keys())\n",
    "            dato = input(\"Ingrese el nuevo dato a modificar\").lower()\n",
    "            value = input (\"Ingrese el valor del dato:\")\n",
    "            tarjeta_personal[dato] = value\n",
    "        print(tarjeta_personal)\n",
    "\n",
    "    elif eleccion == 3:\n",
    "        print (\"Haz seleccionado eliminar datos, los datos que puedes eliminar son:\")\n",
    "        if tarjeta_personal == {}:\n",
    "            print (\"No hay nada que eliminar\")\n",
    "        else:\n",
    "            print (tarjeta_personal.keys())\n",
    "            dato = input(\"Ingrese dato a eliminar\").lower()\n",
    "            del tarjeta_personal[dato]\n",
    "            print (\"Se ha eliminado el dato correctamente\")\n",
    "        print(tarjeta_personal)\n",
    "    else:\n",
    "        print (\"Recuerde que las opciones estan enumeradas y debes introducir 1, 2 o 3\")\n",
    "        continue\n",
    "    condicionador = input(\"Desea hacer otra opcion ? si o no\").lower()\n",
    "    if condicionador == \"no\":\n",
    "        break\n",
    "print (tarjeta_personal)\n"
   ]
  },
  {
   "cell_type": "markdown",
   "id": "e62388bb",
   "metadata": {},
   "source": [
    "# Challenge 3"
   ]
  },
  {
   "cell_type": "code",
   "execution_count": null,
   "id": "b4c8f67b",
   "metadata": {},
   "outputs": [],
   "source": [
    "#Crear una agenda de contactos. El usuario puede elegir:\n",
    "\n",
    "#1. Mostrar los contactos\n",
    "#2. Crear contacto\n",
    "#3. Modificar datos del contacto\n",
    "\n"
   ]
  },
  {
   "cell_type": "code",
   "execution_count": null,
   "id": "3d0327d8",
   "metadata": {},
   "outputs": [],
   "source": [
    "agenda = {}\n",
    "\n",
    "while True:\n",
    "    print(\"\\n¿Qué acción deseas hacer?\")\n",
    "    print(\"1. Mostrar contactos\")\n",
    "    print(\"2. Crear contacto\")\n",
    "    print(\"3. Modificar contacto\")\n",
    "    print(\"4. Eliminar contacto\")\n",
    "    eleccion = input(\"Elegí una opción (1-4): \")\n",
    "\n",
    "    if eleccion == \"1\":\n",
    "        if not agenda:\n",
    "            print(\"La agenda está vacía.\")\n",
    "        else:\n",
    "            for nombre, datos in agenda.items():\n",
    "                print(f\"\\nNombre: {nombre}\")\n",
    "                for clave, valor in datos.items():\n",
    "                    print(f\"  {clave.capitalize()}: {valor}\")\n",
    "\n",
    "    elif eleccion == \"2\":\n",
    "        nombre = input(\"Nombre del nuevo contacto: \").lower()\n",
    "        if nombre in agenda:\n",
    "            print(\"Este contacto ya existe.\")\n",
    "        else:\n",
    "            telefono = input(\"Teléfono: \")\n",
    "            email = input(\"Email: \")\n",
    "            agenda[nombre] = {\"teléfono\": telefono, \"email\": email}\n",
    "            print(\"Contacto creado exitosamente.\")\n",
    "\n",
    "    elif eleccion == \"3\":\n",
    "        nombre = input(\"¿Qué contacto querés modificar?: \").lower()\n",
    "        if nombre in agenda:\n",
    "            print(f\"Datos actuales: {agenda[nombre]}\")\n",
    "            campo = input(\"¿Qué dato querés modificar? (teléfono/email): \").lower()\n",
    "            if campo in agenda[nombre]:\n",
    "                nuevo_valor = input(f\"Nuevo valor para {campo}: \")\n",
    "                agenda[nombre][campo] = nuevo_valor\n",
    "                print(\"Contacto modificado exitosamente.\")\n",
    "            else:\n",
    "                print(\"Ese dato no existe.\")\n",
    "        else:\n",
    "            print(\"Contacto no encontrado.\")\n",
    "\n",
    "    elif eleccion == \"4\":\n",
    "        nombre = input(\"¿Qué contacto querés eliminar?: \").lower()\n",
    "        if nombre in agenda:\n",
    "            del agenda[nombre]\n",
    "            print(\"Contacto eliminado.\")\n",
    "        else:\n",
    "            print(\"Contacto no encontrado.\")\n",
    "\n",
    "    else:\n",
    "        print(\"Opción inválida. Elegí entre 1 y 4.\")\n",
    "\n",
    "    continuar = input(\"¿Querés hacer otra acción? (si/no): \").lower()\n",
    "    if continuar != \"si\":\n",
    "        break\n",
    "\n",
    "print(\"\\nAgenda final:\")\n",
    "for nombre, datos in agenda.items():\n",
    "    print(f\"{nombre.capitalize()}: {datos}\")\n"
   ]
  },
  {
   "cell_type": "code",
   "execution_count": 46,
   "id": "797984b9",
   "metadata": {},
   "outputs": [
    {
     "name": "stdout",
     "output_type": "stream",
     "text": [
      "\n",
      "1. Ver contactos\n",
      "2. Crear contacto\n",
      "3. Modificar contacto\n",
      "4. Eliminar contacto\n",
      "Contacto agregado.\n",
      "\n",
      "1. Ver contactos\n",
      "2. Crear contacto\n",
      "3. Modificar contacto\n",
      "4. Eliminar contacto\n",
      "Contacto agregado.\n",
      "\n",
      "Agenda final:\n",
      "adri: {'tel': '1111', 'email': 'aaa.com'}\n",
      "jua: {'tel': '3333', 'email': 'ddd.com'}\n"
     ]
    }
   ],
   "source": [
    "agenda = {}\n",
    "\n",
    "while True:\n",
    "    print(\"\\n1. Ver contactos\\n2. Crear contacto\\n3. Modificar contacto\\n4. Eliminar contacto\")\n",
    "    opcion = input(\"Elegí una opción (1-4): \")\n",
    "\n",
    "    if opcion == \"1\":\n",
    "        if agenda:\n",
    "            for nombre, datos in agenda.items():\n",
    "                print(f\"{nombre}: Tel: {datos['tel']}, Email: {datos['email']}\")\n",
    "        else:\n",
    "            print(\"No hay contactos todavía.\")\n",
    "\n",
    "    elif opcion == \"2\":\n",
    "        nombre = input(\"Nombre: \").lower()\n",
    "        tel = input(\"Teléfono: \")\n",
    "        email = input(\"Email: \")\n",
    "        agenda[nombre] = {\"tel\": tel, \"email\": email}\n",
    "        print(\"Contacto agregado.\")\n",
    "\n",
    "    elif opcion == \"3\":\n",
    "        nombre = input(\"Nombre del contacto a modificar: \").lower()\n",
    "        if nombre in agenda:\n",
    "            tel = input(\"Nuevo teléfono: \")\n",
    "            email = input(\"Nuevo email: \")\n",
    "            agenda[nombre] = {\"tel\": tel, \"email\": email}\n",
    "            print(\"Contacto actualizado.\")\n",
    "        else:\n",
    "            print(\"Contacto no encontrado.\")\n",
    "\n",
    "    elif opcion == \"4\":\n",
    "        nombre = input(\"Nombre del contacto a eliminar: \").lower()\n",
    "        if nombre in agenda:\n",
    "            del agenda[nombre]\n",
    "            print(\"Contacto eliminado.\")\n",
    "        else:\n",
    "            print(\"Ese contacto no está en la agenda.\")\n",
    "\n",
    "    else:\n",
    "        print(\"Opción no válida.\")\n",
    "\n",
    "    seguir = input(\"¿Querés seguir? (si/no): \").lower()\n",
    "    if seguir != \"si\":\n",
    "        break\n",
    "\n",
    "print(\"\\nAgenda final:\")\n",
    "for nombre, datos in agenda.items():\n",
    "    print(f\"{nombre}: {datos}\")\n"
   ]
  },
  {
   "cell_type": "markdown",
   "id": "9c305dd2",
   "metadata": {},
   "source": [
    "# Challenge 4"
   ]
  },
  {
   "cell_type": "code",
   "execution_count": 73,
   "id": "a3b41bba",
   "metadata": {},
   "outputs": [
    {
     "name": "stdout",
     "output_type": "stream",
     "text": [
      "delmer blanco\n",
      "guau\n"
     ]
    }
   ],
   "source": [
    "class Perro:\n",
    "    ojos: 2\n",
    "    patas: 4\n",
    "    \n",
    "    def __init__(self,color, raza):\n",
    "        self.color = color\n",
    "        self.raza = raza\n",
    "\n",
    "    def ladrido(self):\n",
    "        return('guau')\n",
    "\n",
    "yuyu = Perro('blanco', 'delmer')\n",
    "print(yuyu.raza, yuyu.color)\n",
    "\n",
    "print(yuyu.ladrido())\n",
    "\n"
   ]
  },
  {
   "cell_type": "code",
   "execution_count": null,
   "id": "7a373388",
   "metadata": {},
   "outputs": [
    {
     "name": "stdout",
     "output_type": "stream",
     "text": [
      "salta salta miau miau\n"
     ]
    }
   ],
   "source": [
    "class Tigre:\n",
    "#atributo de intstancia\n",
    "    patas = 4\n",
    "    orejas = 2\n",
    "    cola = 1\n",
    "\n",
    "    #atributo de instancia\n",
    "    def _init_ (self, color, raza):\n",
    "        self.color = color\n",
    "        self.raza = raza\n",
    "\n",
    "    #metodo\n",
    "    def saltar(self):\n",
    "        return('salta salta')      \n",
    "    def maullar(self):\n",
    "        return('miau miau')\n",
    "\n",
    "michi = Tigre ()\n",
    "print(michi.saltar(), michi.maullar())\n"
   ]
  },
  {
   "cell_type": "code",
   "execution_count": 2,
   "metadata": {},
   "outputs": [
    {
     "name": "stdout",
     "output_type": "stream",
     "text": [
      "salta salta miau miau\n"
     ]
    }
   ],
   "source": [
    "#Crear dos métodos para nuestro animal y ejecutar, debe ser algo específico de ese animal.\n",
    "#Ejemplo: \"Cuando hablo, digo X\".\n",
    "#Ejemplo: \"Cuando me muevo, hago X\".\n",
    "\n",
    "class Gato():\n",
    "#atributo de intstancia\n",
    "    patas = 4\n",
    "    orejas = 2\n",
    "    cola = 1\n",
    "\n",
    "    #atributo de instancia\n",
    "    def __init__ (self, color, raza):\n",
    "        self.color = color\n",
    "        self.raza = raza\n",
    "\n",
    "    #metodo\n",
    "    def saltar(self):\n",
    "        return('salta salta')      \n",
    "    def maullar(self):\n",
    "        return('miau miau')\n",
    "\n",
    "#al diferencia con el anterior se nota aca. dependiendo de lo que se coloque en el \"init\" y la cantidad de guiones bajos \"_\" que tenga. De tener uno no pide la descripcion de la clase.\n",
    "michi = Gato('blanco', 'delmer')\n",
    "print(michi.saltar(), michi.maullar())"
   ]
  },
  {
   "cell_type": "markdown",
   "id": "4eb62ba4",
   "metadata": {},
   "source": [
    "# Challenge 5"
   ]
  },
  {
   "cell_type": "code",
   "execution_count": 7,
   "id": "8892e8af",
   "metadata": {},
   "outputs": [
    {
     "data": {
      "text/plain": [
       "'juega con la pelota'"
      ]
     },
     "execution_count": 7,
     "metadata": {},
     "output_type": "execute_result"
    }
   ],
   "source": [
    "#ejemplo\n",
    "class Gatito(Gato):\n",
    "    cola = 1\n",
    "\n",
    "    def jugar(self):\n",
    "        return('juega con la pelota')\n",
    "\n",
    "snowball = Gatito('gris', 'pequenho')\n",
    "\n",
    "#instanciar\n",
    "snowball.jugar()\n"
   ]
  },
  {
   "cell_type": "markdown",
   "id": "cb566f4f",
   "metadata": {},
   "source": [
    "# Challenge 6"
   ]
  },
  {
   "cell_type": "code",
   "execution_count": 23,
   "id": "9d585a80",
   "metadata": {},
   "outputs": [
    {
     "name": "stdout",
     "output_type": "stream",
     "text": [
      "Hija mayor:\n",
      "Atributos heredados: Cabello Marron, Ojos Verdes\n",
      "Hija menor:\n",
      "Atributos heredados: Cabello Marron, Ojos Verdes\n"
     ]
    }
   ],
   "source": [
    "#Definir una clase madre que herede a sus clases hijas dos atributos de instancia. Mostrar ambos atributos en pantalla desde los objetos de las clases hijas.\n",
    "#Observación: Editar las clases hijas para que no se inicialicen.\n",
    "        \n",
    "# Definición de la clase madre\n",
    "class Madre:\n",
    "    def __init__(self):\n",
    "        self.cabellomarron = \"Cabello Marron\"\n",
    "        self.ojosverdes = \"Ojos Verdes\"\n",
    "\n",
    "# Definición de la primera clase hija mayor Maria\n",
    "class Hija_mayor(Madre):\n",
    "    def mostrar_atributos(self):\n",
    "        print(f\"Hija mayor:\")\n",
    "        print(f\"Atributos heredados: {self.cabellomarron}, {self.ojosverdes}\")\n",
    "\n",
    "# Definición de la segunda clase hija menor Marta\n",
    "class Hija_menor(Madre):\n",
    "    def mostrar_atributos(self):\n",
    "        print(f\"Hija menor:\")\n",
    "        print(f\"Atributos heredados: {self.cabellomarron}, {self.ojosverdes}\")\n",
    "\n",
    "# Creación de objetos y demostración\n",
    "Maria = Hija_mayor()\n",
    "Marta = Hija_menor()\n",
    "\n",
    "Maria.mostrar_atributos()\n",
    "Marta.mostrar_atributos()\n"
   ]
  }
 ],
 "metadata": {
  "kernelspec": {
   "display_name": "Python 3",
   "language": "python",
   "name": "python3"
  },
  "language_info": {
   "codemirror_mode": {
    "name": "ipython",
    "version": 3
   },
   "file_extension": ".py",
   "mimetype": "text/x-python",
   "name": "python",
   "nbconvert_exporter": "python",
   "pygments_lexer": "ipython3",
   "version": "3.13.3"
  }
 },
 "nbformat": 4,
 "nbformat_minor": 5
}
